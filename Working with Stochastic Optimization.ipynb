{
 "cells": [
  {
   "cell_type": "markdown",
   "metadata": {},
   "source": [
    "# Stochastic Optimization for Air Travel"
   ]
  },
  {
   "cell_type": "markdown",
   "metadata": {},
   "source": [
    "Optimization tries many different solutions and scores the best one to use. One simple examples is using random guesses and scoring to determine which one is best. There are a number of issues that make this approach ineffective - one of which processing time. There are many problems where there just are too many options to consider. "
   ]
  },
  {
   "cell_type": "markdown",
   "metadata": {},
   "source": [
    "This example plans a trip for a group of people (all of whom live in different cities). They want to meet in New York. However, they want to arrive and leave New York on the same day. This example will try to find the optimal flights to take to achieve this goal and minimize costs. "
   ]
  },
  {
   "cell_type": "markdown",
   "metadata": {},
   "source": [
    "Below will import all the packages we need including time, random, and math. We will also define our \"group\" of people and their respective cities. They all want to arrive at Lagaurdia Airport in NYC. "
   ]
  },
  {
   "cell_type": "code",
   "execution_count": 11,
   "metadata": {
    "collapsed": true
   },
   "outputs": [],
   "source": [
    "import time\n",
    "import random\n",
    "import math\n",
    "\n",
    "people = [('Seymour','BOS'),\n",
    "          ('Franny','DAL'),\n",
    "          ('Zooey','CAK'),\n",
    "          ('Walt','MIA'),\n",
    "          ('Buddy','ORD'),\n",
    "          ('Les','OMA')]\n",
    "# Laguardia\n",
    "destination='LGA'"
   ]
  },
  {
   "cell_type": "markdown",
   "metadata": {},
   "source": [
    "Next, we are going to convert our schedule.txt file into a dictionary data object that we can use. "
   ]
  },
  {
   "cell_type": "code",
   "execution_count": 13,
   "metadata": {
    "collapsed": false
   },
   "outputs": [],
   "source": [
    "flights={}\n",
    "\n",
    "for line in file('schedule.txt'):\n",
    "    #import a) origin, b) destination, c) arrive, and d) price. In the .txt file, \n",
    "    #they are split by a ,.\n",
    "  origin,dest,depart,arrive,price=line.strip().split(',')\n",
    "    #.setdefault origin and destination an empty array\n",
    "  flights.setdefault((origin,dest),[])\n",
    "\n",
    "  # Add details to the list of possible flights\n",
    "  flights[(origin,dest)].append((depart,arrive,int(price)))"
   ]
  },
  {
   "cell_type": "markdown",
   "metadata": {},
   "source": [
    "The above is a standard way to convert/clean a .txt file into a usable data object. An additional step of cleaning will also convert the arrival and depart times to minutes as shown below. "
   ]
  },
  {
   "cell_type": "code",
   "execution_count": 4,
   "metadata": {
    "collapsed": true
   },
   "outputs": [],
   "source": [
    "def getminutes(t):\n",
    "  x=time.strptime(t,'%H:%M')\n",
    "  return x[3]*60+x[4]"
   ]
  },
  {
   "cell_type": "code",
   "execution_count": 21,
   "metadata": {
    "collapsed": true
   },
   "outputs": [],
   "source": [
    "def printschedule(r):\n",
    "    #we want the range of r/2 since there is an arrival flight and return flight. \n",
    "  for d in range(len(r)/2):\n",
    "    #take the first column in our people array. \n",
    "    name=people[d][0]\n",
    "    #take the second column in our people array.\n",
    "    origin=people[d][1]\n",
    "    out=flights[(origin,destination)][int(r[d*2])]\n",
    "    ret=flights[(destination,origin)][int(r[d*2+1])]\n",
    "    print '%10s%10s %5s-%5s $%3s %5s-%5s $%3s' % (name,origin,\n",
    "                                                  out[0],out[1],out[2],\n",
    "                                                  ret[0],ret[1],ret[2])"
   ]
  },
  {
   "cell_type": "code",
   "execution_count": 35,
   "metadata": {
    "collapsed": false
   },
   "outputs": [],
   "source": [
    "s=[1,4,3,2]"
   ]
  },
  {
   "cell_type": "code",
   "execution_count": 36,
   "metadata": {
    "collapsed": false
   },
   "outputs": [
    {
     "name": "stdout",
     "output_type": "stream",
     "text": [
      "   Seymour       BOS  8:04-10:11 $ 95 12:08-14:05 $142\n",
      "    Franny       DAL 10:30-14:57 $290  9:49-13:51 $229\n"
     ]
    }
   ],
   "source": [
    "printschedule(s)"
   ]
  },
  {
   "cell_type": "markdown",
   "metadata": {},
   "source": [
    "It is important to note that the above does NOT show the optimal arrival/departures. We haven't reached that point yet. It just shows a random schedule we inputed. We could have very well at s = [1,2,3,4]. See below for how this would look:"
   ]
  },
  {
   "cell_type": "code",
   "execution_count": 48,
   "metadata": {
    "collapsed": true
   },
   "outputs": [],
   "source": [
    "r = [1,2,3,4,5,6,7,8]"
   ]
  },
  {
   "cell_type": "code",
   "execution_count": 49,
   "metadata": {
    "collapsed": false,
    "scrolled": true
   },
   "outputs": [
    {
     "name": "stdout",
     "output_type": "stream",
     "text": [
      "   Seymour       BOS  8:04-10:11 $ 95  9:58-11:18 $130\n",
      "    Franny       DAL 10:30-14:57 $290 12:20-16:34 $500\n",
      "     Zooey       CAK 13:40-15:38 $137 15:50-18:45 $243\n",
      "      Walt       MIA 17:07-20:04 $291 18:07-21:30 $355\n"
     ]
    }
   ],
   "source": [
    "printschedule(r)"
   ]
  },
  {
   "cell_type": "markdown",
   "metadata": {},
   "source": [
    "Now lets set up our cost function. There is no good or bad way to set up a cost. Some of the attributes we can look at are price, travel time, waiting time, departure time, and car rental period. Usually we optimize by have the lowest cost at the end of the day. "
   ]
  },
  {
   "cell_type": "code",
   "execution_count": 32,
   "metadata": {
    "collapsed": false
   },
   "outputs": [],
   "source": [
    "outbound=flights[(origin,destination)]"
   ]
  },
  {
   "cell_type": "code",
   "execution_count": 33,
   "metadata": {
    "collapsed": false
   },
   "outputs": [
    {
     "data": {
      "text/plain": [
       "[('6:08', '8:06', 224),\n",
       " ('8:27', '10:45', 139),\n",
       " ('9:15', '12:14', 247),\n",
       " ('10:53', '13:36', 189),\n",
       " ('12:08', '14:59', 149),\n",
       " ('13:40', '15:38', 137),\n",
       " ('15:23', '17:25', 232),\n",
       " ('17:08', '19:08', 262),\n",
       " ('18:35', '20:28', 204),\n",
       " ('20:30', '23:11', 114)]"
      ]
     },
     "execution_count": 33,
     "metadata": {},
     "output_type": "execute_result"
    }
   ],
   "source": [
    "outbound"
   ]
  },
  {
   "cell_type": "code",
   "execution_count": 37,
   "metadata": {
    "collapsed": true
   },
   "outputs": [],
   "source": [
    "def schedulecost(sol):\n",
    "  totalprice=0\n",
    "  latestarrival=0\n",
    "  earliestdep=24*60\n",
    "\n",
    "  for d in range(len(sol)/2):\n",
    "    # Get the inbound and outbound flights\n",
    "    origin=people[d][1]\n",
    "    outbound=flights[(origin,destination)][int(sol[d*2])]\n",
    "    returnf=flights[(destination,origin)][int(sol[d*2+1])]\n",
    "    \n",
    "    # Total price is the price of all outbound and return flights\n",
    "    totalprice+=outbound[2]\n",
    "    totalprice+=returnf[2]\n",
    "    \n",
    "    # Track the latest arrival and earliest departure\n",
    "    if latestarrival<getminutes(outbound[1]): latestarrival=getminutes(outbound[1])\n",
    "    if earliestdep>getminutes(returnf[0]): earliestdep=getminutes(returnf[0])\n",
    "  \n",
    "  # Every person must wait at the airport until the latest person arrives.\n",
    "  # They also must arrive at the same time and wait for their flights.\n",
    "  totalwait=0  \n",
    "  for d in range(len(sol)/2):\n",
    "    origin=people[d][1]\n",
    "    outbound=flights[(origin,destination)][int(sol[d*2])]\n",
    "    returnf=flights[(destination,origin)][int(sol[d*2+1])]\n",
    "    totalwait+=latestarrival-getminutes(outbound[1])\n",
    "    totalwait+=getminutes(returnf[0])-earliestdep  \n",
    "  \n",
    "  return totalwait+totalprice"
   ]
  },
  {
   "cell_type": "markdown",
   "metadata": {},
   "source": [
    "There is a lot going on in the cost function above. Let's break it down. The argument that this schedulecost() recieves is \"Sol\" or our vector that was fed into printschedule(s) previously defined. \n",
    "\n",
    "The first components in our loop are fairly straightforward. Note: range() is used in for-loops to state how many times we want to loop. It's not enough to say \"for 'd' in (len(sol/2)) because (len(sol/2)) is an integer and we don't use an integer to establish a for-loop. We use an array of numbers (i.e. [0,1,2,3]). \n",
    "\n",
    "\"d\" then is defined based on this range. So let's say we used s=[1,4,3,2]. (len(sol/2)) makes this 2. range((len(sol/2))) makes this [0,1] which makes 'd' 0 and 1. So, when we get to our 2nd iteration we have origin = people[d][1] that means people[1][1]. Then, that means go to our people array go to the second (2nd) row and second (2nd) column. Use that value. It's 'DAL' --> which is the Dallas airport.\n",
    "\n",
    "Let's follow this thread along. 'd' is still 1. We get to the next line, and flights [(origin,destination)][int(s[1*2])] means pull the origin and destination times and the price for the flights array for the S-row. Here, the S-row will NOT be 2. It'll be the third column whatever our s-vector was. In this case the third column value is 3. So, now we can pull the 3rd row of flights data. \n",
    "\n",
    "If you remember, we defined s=[1,4,3,2] as s = [departing, arriving, departing, arriving] and so and so forth. So the 1st value is outbound for Seymour and our third value is outbound for Fanny. \n",
    "\n",
    "Return flight information is defined the same way, but as you would expect we just add one to get the arriving: sol[d*2+1]. This record is defined as our return value. \n",
    "\n",
    "Next, we have a conditional. \"latestarrival\" was defined as 0 earlier in the function. So, this line converts all the outbound times to integer minutes with our getminutes(). The same applies to earliest departure. \n",
    "\n",
    "Finally, we are already to incorporate some type of cost. This is done by calculating the difference between the latest arrival and the latest arrival under the proposed schedule. The bigger the proposed schedule is off, the bigger the cost will be.\n",
    "\n",
    "The same holds true for departures. We then sum of the total waits to get our cost. "
   ]
  },
  {
   "cell_type": "code",
   "execution_count": 38,
   "metadata": {
    "collapsed": false
   },
   "outputs": [
    {
     "data": {
      "text/plain": [
       "1181"
      ]
     },
     "execution_count": 38,
     "metadata": {},
     "output_type": "execute_result"
    }
   ],
   "source": [
    "schedulecost(s)"
   ]
  },
  {
   "cell_type": "markdown",
   "metadata": {},
   "source": [
    "Now, we are able to evaluate our costs for any given schedule. We tried s=[1,4,3,2] above. Which means Seymour took the 2nd flight from Boston and the fifth flight back home. Then Franny took the 4th flight from DAL and 3rd flight back home.\n",
    "\n",
    "When Seymour and Franny made this choice, it cost them $1,181. \n",
    "\n",
    "Let's have Seymour and Franny take first flight all the time. So s_trial2 = [0,0,0,0]. This seems like it would lower costs right? Since the first flight out tends to be super early in the morning and nobody likes to wake early? idk."
   ]
  },
  {
   "cell_type": "code",
   "execution_count": 39,
   "metadata": {
    "collapsed": true
   },
   "outputs": [],
   "source": [
    "s_trial2 = [0,0,0,0]"
   ]
  },
  {
   "cell_type": "code",
   "execution_count": 40,
   "metadata": {
    "collapsed": false
   },
   "outputs": [
    {
     "data": {
      "text/plain": [
       "965"
      ]
     },
     "execution_count": 40,
     "metadata": {},
     "output_type": "execute_result"
    }
   ],
   "source": [
    "schedulecost(s_trial2)"
   ]
  },
  {
   "cell_type": "markdown",
   "metadata": {},
   "source": [
    "I guessed right. Seymour and Franny saved $216 by always taking the first flight out. What if they took the 10th flight all the time? or s_trial3 = [9,9,9,9]."
   ]
  },
  {
   "cell_type": "code",
   "execution_count": 42,
   "metadata": {
    "collapsed": true
   },
   "outputs": [],
   "source": [
    "s_trial3 = [9,9,9,9]"
   ]
  },
  {
   "cell_type": "code",
   "execution_count": 43,
   "metadata": {
    "collapsed": false
   },
   "outputs": [
    {
     "data": {
      "text/plain": [
       "1295"
      ]
     },
     "execution_count": 43,
     "metadata": {},
     "output_type": "execute_result"
    }
   ],
   "source": [
    "schedulecost(s_trial3)"
   ]
  },
  {
   "cell_type": "markdown",
   "metadata": {},
   "source": [
    "This cost us $114 more...So in our three trial batches, it looks like we see earlier flights to be cheaper. However, the problem is that we manually had to sample these schedules. What if the 2nd flight out and the 14th flight back turn out to be the best? What if there were a way to try out all the other combinations? There is. We'll cover it in the next section using a random search method. It's simple; it uses brute force; it's the least effective optimization, but it serves as a good baseline to compare against other optimization algos we may throw at the prob. "
   ]
  },
  {
   "cell_type": "code",
   "execution_count": 7,
   "metadata": {
    "collapsed": true
   },
   "outputs": [],
   "source": [
    "def randomoptimize(domain,costf):\n",
    "  best=999999999\n",
    "  bestr=None\n",
    "  for i in range(0,1000):\n",
    "    # Create a random solution\n",
    "    r=[float(random.randint(domain[i][0],domain[i][1])) \n",
    "       for i in range(len(domain))]\n",
    "    \n",
    "    # Get the cost\n",
    "    cost=costf(r)\n",
    "    \n",
    "    # Compare it to the best one so far\n",
    "    if cost<best:\n",
    "      best=cost\n",
    "      bestr=r \n",
    "  return r"
   ]
  },
  {
   "cell_type": "code",
   "execution_count": 8,
   "metadata": {
    "collapsed": true
   },
   "outputs": [],
   "source": [
    "def hillclimb(domain,costf):\n",
    "  # Create a random solution\n",
    "  sol=[random.randint(domain[i][0],domain[i][1])\n",
    "      for i in range(len(domain))]\n",
    "  # Main loop\n",
    "  while 1:\n",
    "    # Create list of neighboring solutions\n",
    "    neighbors=[]\n",
    "    \n",
    "    for j in range(len(domain)):\n",
    "      # One away in each direction\n",
    "      if sol[j]>domain[j][0]:\n",
    "        neighbors.append(sol[0:j]+[sol[j]+1]+sol[j+1:])\n",
    "      if sol[j]<domain[j][1]:\n",
    "        neighbors.append(sol[0:j]+[sol[j]-1]+sol[j+1:])\n",
    "\n",
    "    # See what the best solution amongst the neighbors is\n",
    "    current=costf(sol)\n",
    "    best=current\n",
    "    for j in range(len(neighbors)):\n",
    "      cost=costf(neighbors[j])\n",
    "      if cost<best:\n",
    "        best=cost\n",
    "        sol=neighbors[j]\n",
    "\n",
    "    # If there's no improvement, then we've reached the top\n",
    "    if best==current:\n",
    "      break\n",
    "  return sol"
   ]
  },
  {
   "cell_type": "code",
   "execution_count": 9,
   "metadata": {
    "collapsed": true
   },
   "outputs": [],
   "source": [
    "def annealingoptimize(domain,costf,T=10000.0,cool=0.95,step=1):\n",
    "  # Initialize the values randomly\n",
    "  vec=[float(random.randint(domain[i][0],domain[i][1])) \n",
    "       for i in range(len(domain))]\n",
    "  \n",
    "  while T>0.1:\n",
    "    # Choose one of the indices\n",
    "    i=random.randint(0,len(domain)-1)\n",
    "\n",
    "    # Choose a direction to change it\n",
    "    dir=random.randint(-step,step)\n",
    "\n",
    "    # Create a new list with one of the values changed\n",
    "    vecb=vec[:]\n",
    "    vecb[i]+=dir\n",
    "    if vecb[i]<domain[i][0]: vecb[i]=domain[i][0]\n",
    "    elif vecb[i]>domain[i][1]: vecb[i]=domain[i][1]\n",
    "\n",
    "    # Calculate the current cost and the new cost\n",
    "    ea=costf(vec)\n",
    "    eb=costf(vecb)\n",
    "    p=pow(math.e,(-eb-ea)/T)\n",
    "\n",
    "    # Is it better, or does it make the probability\n",
    "    # cutoff?\n",
    "    if (eb<ea or random.random()<p):\n",
    "      vec=vecb      \n",
    "\n",
    "    # Decrease the temperature\n",
    "    T=T*cool\n",
    "  return vec"
   ]
  },
  {
   "cell_type": "code",
   "execution_count": 10,
   "metadata": {
    "collapsed": true
   },
   "outputs": [],
   "source": [
    "def geneticoptimize(domain,costf,popsize=50,step=1,\n",
    "                    mutprob=0.2,elite=0.2,maxiter=100):\n",
    "  # Mutation Operation\n",
    "  def mutate(vec):\n",
    "    i=random.randint(0,len(domain)-1)\n",
    "    if random.random()<0.5 and vec[i]>domain[i][0]:\n",
    "      return vec[0:i]+[vec[i]-step]+vec[i+1:] \n",
    "    elif vec[i]<domain[i][1]:\n",
    "      return vec[0:i]+[vec[i]+step]+vec[i+1:]\n",
    "  \n",
    "  # Crossover Operation\n",
    "  def crossover(r1,r2):\n",
    "    i=random.randint(1,len(domain)-2)\n",
    "    return r1[0:i]+r2[i:]\n",
    "\n",
    "  # Build the initial population\n",
    "  pop=[]\n",
    "  for i in range(popsize):\n",
    "    vec=[random.randint(domain[i][0],domain[i][1]) \n",
    "         for i in range(len(domain))]\n",
    "    pop.append(vec)\n",
    "  \n",
    "  # How many winners from each generation?\n",
    "  topelite=int(elite*popsize)\n",
    "  \n",
    "  # Main loop \n",
    "  for i in range(maxiter):\n",
    "    scores=[(costf(v),v) for v in pop]\n",
    "    scores.sort()\n",
    "    ranked=[v for (s,v) in scores]\n",
    "    \n",
    "    # Start with the pure winners\n",
    "    pop=ranked[0:topelite]\n",
    "    \n",
    "    # Add mutated and bred forms of the winners\n",
    "    while len(pop)<popsize:\n",
    "      if random.random()<mutprob:\n",
    "\n",
    "        # Mutation\n",
    "        c=random.randint(0,topelite)\n",
    "        pop.append(mutate(ranked[c]))\n",
    "      else:\n",
    "      \n",
    "        # Crossover\n",
    "        c1=random.randint(0,topelite)\n",
    "        c2=random.randint(0,topelite)\n",
    "        pop.append(crossover(ranked[c1],ranked[c2]))\n",
    "    \n",
    "    # Print current best score\n",
    "    print scores[0][0]\n",
    "    \n",
    "  return scores[0][1]"
   ]
  },
  {
   "cell_type": "code",
   "execution_count": null,
   "metadata": {
    "collapsed": true
   },
   "outputs": [],
   "source": []
  }
 ],
 "metadata": {
  "kernelspec": {
   "display_name": "Python 2",
   "language": "python",
   "name": "python2"
  },
  "language_info": {
   "codemirror_mode": {
    "name": "ipython",
    "version": 2
   },
   "file_extension": ".py",
   "mimetype": "text/x-python",
   "name": "python",
   "nbconvert_exporter": "python",
   "pygments_lexer": "ipython2",
   "version": "2.7.10"
  }
 },
 "nbformat": 4,
 "nbformat_minor": 0
}
