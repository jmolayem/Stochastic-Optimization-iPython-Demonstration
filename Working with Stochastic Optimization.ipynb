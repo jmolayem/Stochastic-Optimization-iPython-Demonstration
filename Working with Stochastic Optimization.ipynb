{
 "cells": [
  {
   "cell_type": "code",
   "execution_count": 1,
   "metadata": {
    "collapsed": true
   },
   "outputs": [],
   "source": [
    "import time\n",
    "import random\n",
    "import math\n",
    "\n",
    "people = [('Seymour','BOS'),\n",
    "          ('Franny','DAL'),\n",
    "          ('Zooey','CAK'),\n",
    "          ('Walt','MIA'),\n",
    "          ('Buddy','ORD'),\n",
    "          ('Les','OMA')]\n",
    "# Laguardia\n",
    "destination='LGA'"
   ]
  },
  {
   "cell_type": "code",
   "execution_count": null,
   "metadata": {
    "collapsed": true
   },
   "outputs": [],
   "source": []
  }
 ],
 "metadata": {
  "kernelspec": {
   "display_name": "Python 2",
   "language": "python",
   "name": "python2"
  },
  "language_info": {
   "codemirror_mode": {
    "name": "ipython",
    "version": 2
   },
   "file_extension": ".py",
   "mimetype": "text/x-python",
   "name": "python",
   "nbconvert_exporter": "python",
   "pygments_lexer": "ipython2",
   "version": "2.7.10"
  }
 },
 "nbformat": 4,
 "nbformat_minor": 0
}
